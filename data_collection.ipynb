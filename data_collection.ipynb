{
 "cells": [
  {
   "cell_type": "code",
   "execution_count": 4,
   "metadata": {
    "collapsed": true
   },
   "outputs": [],
   "source": [
    "from bs4 import BeautifulSoup\n",
    "import re\n",
    "import requests\n",
    "from retrying import retry\n",
    "import json\n",
    "\n",
    "# The first page we're scraping\n",
    "TOP_PAGE = \"https://www.imdb.com/list/ls058011111/\"\n",
    "\n",
    "# The second page we're scraping\n",
    "BIO_PAGE = \"https://imdb.com/name/{}/bio?ref_=nmls_hd\"\n",
    "\n",
    "# Patterns to find on the pages we're scraping\n",
    "PATTERN = re.compile('/name/nm.*ref_=nmls_hd')\n",
    "REGEX = re.compile('/name/(nm\\d+)?.*ref_=nmls_hd.*')"
   ]
  },
  {
   "cell_type": "code",
   "execution_count": 2,
   "metadata": {
    "collapsed": true
   },
   "outputs": [],
   "source": [
    "@retry(stop_max_attempt_number=7, wait_fixed=2000)\n",
    "def persistent_request_to_soup(*args, **kwargs):\n",
    "    \"\"\"Make a request and convert to a HTML soup. Requests sometimes get blocked,\n",
    "    so wait 2 seconds between failed requests. All args and kwargs are passed\n",
    "    directly to `requests.get`\"\"\"\n",
    "    r = requests.get(*args, **kwargs)\n",
    "    r.raise_for_status()\n",
    "    return BeautifulSoup(r.text, \"lxml\")\n",
    "\n",
    "\n",
    "def imdb_code_iter():\n",
    "    \"\"\"Yield an iterator to the next IMDB actor code, by iterating\n",
    "    through pages until no more actor codes are found.\"\"\"\n",
    "    done = False\n",
    "    ipage = 1\n",
    "    while not done:\n",
    "        # Innocent until proven guilty                                  \n",
    "        done = True\n",
    "        for code in _code_iter(ipage):\n",
    "            done = False\n",
    "            yield code\n",
    "        # Increment page number                                         \n",
    "        ipage += 1\n",
    "\n",
    "\n",
    "def _code_iter(ipage):\n",
    "    \"\"\"Yield an iterator to the next IMDB actor code on this page, if any.\n",
    "    \n",
    "    Args:\n",
    "        ipage (int): The page number.\n",
    "    Yields:\n",
    "        code (str) an IMDB actor code.\n",
    "    \"\"\"\n",
    "    # Get the HTML soup for this page\n",
    "    soup = persistent_request_to_soup(TOP_PAGE, params=dict(page=ipage))\n",
    "    # Find all IMDB actor codes on this page\n",
    "    for anchor in soup.find_all('a', href=PATTERN):\n",
    "        href = anchor['href']\n",
    "        code = REGEX.findall(href)[0]\n",
    "        yield code\n",
    "\n",
    "\n",
    "def fetch_bio(imdb_code):\n",
    "    \"\"\"Find the biography associated with the actor with IMDB code `imdb_code`.\n",
    "    \n",
    "    Args:\n",
    "        imdb_code (str): The IMDB code of the actor.\n",
    "    Returns:\n",
    "        name, biography (str, str): Name and biography of the actor.\n",
    "    \"\"\"\n",
    "    soup = persistent_request_to_soup(BIO_PAGE.format(imdb_code))\n",
    "    # Fetch the actor name                                       \n",
    "    name_meta = soup.find(\"meta\", property=\"og:title\")\n",
    "    name = name_meta[\"content\"]\n",
    "    # Fetch the bio                                              \n",
    "    bio = soup.find(\"div\", class_=[\"soda\", \"odd\"])\n",
    "    clean_text = bio.text.strip()\n",
    "    paragraphs = clean_text.split(\"\\n\")\n",
    "    bio_text = paragraphs[0]\n",
    "    return name, bio_text"
   ]
  },
  {
   "cell_type": "code",
   "execution_count": 5,
   "metadata": {},
   "outputs": [],
   "source": [
    "# Fetch each biography for every code.\n",
    "code_iter = imdb_code_iter()\n",
    "bios = {name: text for name, text in map(fetch_bio, code_iter)}\n",
    "with open(\"data/out-bios.json\", \"w\") as f:\n",
    "    json.dump(bios, f)"
   ]
  }
 ],
 "metadata": {
  "kernelspec": {
   "display_name": "Python [conda env:py36]",
   "language": "python",
   "name": "conda-env-py36-py"
  },
  "language_info": {
   "codemirror_mode": {
    "name": "ipython",
    "version": 3
   },
   "file_extension": ".py",
   "mimetype": "text/x-python",
   "name": "python",
   "nbconvert_exporter": "python",
   "pygments_lexer": "ipython3",
   "version": "3.6.3"
  }
 },
 "nbformat": 4,
 "nbformat_minor": 2
}
